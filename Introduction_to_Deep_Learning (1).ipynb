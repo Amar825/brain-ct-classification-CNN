{
 "cells": [
  {
   "cell_type": "markdown",
   "id": "6f31ff2d",
   "metadata": {
    "id": "6f31ff2d"
   },
   "source": [
    "<img src=\"materials/images/introduction-to-deep-learning.png\"/>"
   ]
  },
  {
   "cell_type": "markdown",
   "id": "1b6365cc",
   "metadata": {
    "id": "1b6365cc"
   },
   "source": [
    "# Introduction to Deep Learning"
   ]
  },
  {
   "cell_type": "markdown",
   "id": "7cba3d3b",
   "metadata": {
    "id": "7cba3d3b"
   },
   "source": [
    "**Deep learning** is a type of artificial intelligence (AI) and machine learning approach that involves training artificial neural networks to recognize patterns in data, and to make decisions based on those patterns.\n",
    "\n",
    "Typically, deep learning involves a structure with several layers. Each successive layer learns more refined things about the input. This increasing depth of the structure is why it's termed deep learning. Deep learning usually involves learning from large amounts of data."
   ]
  },
  {
   "cell_type": "markdown",
   "id": "8igKZ3d05ts2",
   "metadata": {
    "id": "8igKZ3d05ts2"
   },
   "source": [
    "##### **Neural Networks vs. Deep Learning**\n",
    "Deep learning employs neural networks and is distinguished by its depth, which refers to the multiple layers between the input and output layers of the neural network. Hence it is called \"deep\" learning because it makes use of these deep neural networks. Each layer of a deep neural network transforms the data, extracting features and increasingly abstract information as data moves deeper through the network.\n",
    "\n",
    "Traditional neural networks might have a few layers, whereas deep learning involves networks with a much greater depth. Deep learning networks are much more capable and can automatically discover the features to be used for classification or prediction. They can identify intricate, high-level patterns, making them suitable for tasks like image recognition and natural language processing."
   ]
  },
  {
   "cell_type": "markdown",
   "id": "7959a0c8",
   "metadata": {
    "id": "7959a0c8"
   },
   "source": [
    "# Convolutional Neural Network"
   ]
  },
  {
   "cell_type": "markdown",
   "id": "dcb4d721",
   "metadata": {
    "id": "dcb4d721"
   },
   "source": [
    "<img src=\"materials/images/cnn-0.png\"/>"
   ]
  },
  {
   "cell_type": "markdown",
   "id": "cc5d4a36",
   "metadata": {
    "id": "cc5d4a36"
   },
   "source": [
    "A **Convolutional Neural Network (CNN)** is a specialized type of deep learning model designed to process and analyze visual data, such as images. The CNN adds a series of convolution and pooling layers to a traditional, fully-connected neural network (introduced in a separate module).\n",
    "\n",
    "It is particularly effective with tasks like image recognition, object detection, and image classification. CNNs are inspired by the visual cortex of the human brain, and use a hierarchical architecture to automatically learn and extract meaningful features from the input data.\n",
    "\n",
    "We will discuss this deep learning model and what happens as an image is passed through its depths.  "
   ]
  },
  {
   "cell_type": "markdown",
   "id": "f95de826",
   "metadata": {
    "id": "f95de826"
   },
   "source": [
    "---"
   ]
  },
  {
   "cell_type": "markdown",
   "id": "7698aba4",
   "metadata": {
    "id": "7698aba4"
   },
   "source": [
    "# Self Check"
   ]
  },
  {
   "cell_type": "markdown",
   "id": "7401bcec",
   "metadata": {
    "id": "7401bcec"
   },
   "source": [
    "Prior to us discussing the specifics of the CNN, pause for a moment and evaluate the image above. See if you can identify which part of the image is the neural network and which part leads us to use the term **\"deep learning.\"**"
   ]
  },
  {
   "cell_type": "markdown",
   "id": "fd0d272f",
   "metadata": {
    "id": "fd0d272f"
   },
   "source": [
    "---"
   ]
  },
  {
   "cell_type": "markdown",
   "id": "9db8edd8",
   "metadata": {
    "id": "9db8edd8"
   },
   "source": [
    "## An image"
   ]
  },
  {
   "cell_type": "markdown",
   "id": "e09cb66d",
   "metadata": {
    "id": "e09cb66d"
   },
   "source": [
    "In deep learning, **an image** has a height, width and a depth as it's being evaluated. For example, a color image has a depth of 3 (for its red, green and blue channels)."
   ]
  },
  {
   "cell_type": "markdown",
   "id": "f74484c6",
   "metadata": {
    "id": "f74484c6"
   },
   "source": [
    "<img src=\"materials/images/image.png\"/>"
   ]
  },
  {
   "cell_type": "markdown",
   "id": "81016dcd",
   "metadata": {
    "id": "81016dcd"
   },
   "source": [
    "## Convolution"
   ]
  },
  {
   "cell_type": "markdown",
   "id": "SoX_dyP8XGu6",
   "metadata": {
    "id": "SoX_dyP8XGu6"
   },
   "source": [
    "<img src=\"materials/images/filter-1.png\"/>"
   ]
  },
  {
   "cell_type": "markdown",
   "id": "15B3JlIPXPQd",
   "metadata": {
    "id": "15B3JlIPXPQd"
   },
   "source": [
    "An **image**, in actuality, is composed of pixel intensity values (numbers). A **filter**, which is also composed of numbers, is what's used to detect useful features in an image related to a specifc classification."
   ]
  },
  {
   "cell_type": "markdown",
   "id": "7RZNRrQJXQey",
   "metadata": {
    "id": "7RZNRrQJXQey"
   },
   "source": [
    "<img src=\"materials/images/filter-2.png\"/>"
   ]
  },
  {
   "cell_type": "markdown",
   "id": "6VQ16-8rXV4I",
   "metadata": {
    "id": "6VQ16-8rXV4I"
   },
   "source": [
    "The numbers within a filter are learned in order to minimize prediction error. The filter will sit on top of a typically 3x3 square portion of the image, centered on a pixel, to learn about what is in that pixel's vicinity."
   ]
  },
  {
   "cell_type": "markdown",
   "id": "WyFMktWWXZLV",
   "metadata": {
    "id": "WyFMktWWXZLV"
   },
   "source": [
    "<img src=\"materials/images/filter-3.png\"/>"
   ]
  },
  {
   "cell_type": "markdown",
   "id": "5hzECjuYYBWk",
   "metadata": {
    "id": "5hzECjuYYBWk"
   },
   "source": [
    "The values from the image and filter are combined."
   ]
  },
  {
   "cell_type": "markdown",
   "id": "ipuRSTZ4YGcT",
   "metadata": {
    "id": "ipuRSTZ4YGcT"
   },
   "source": [
    "<img src=\"materials/images/filter-4.png\"/>"
   ]
  },
  {
   "cell_type": "markdown",
   "id": "Jb2vTW9xYLxw",
   "metadata": {
    "id": "Jb2vTW9xYLxw"
   },
   "source": [
    "## Feature map"
   ]
  },
  {
   "cell_type": "markdown",
   "id": "YWTpa8JqYZAV",
   "metadata": {
    "id": "YWTpa8JqYZAV"
   },
   "source": [
    "This mathematical combination, the sum of the products, is known as a **convolution**, and the result of the convolution is placed into a feature map--a map indicating where a given feature is located within the image."
   ]
  },
  {
   "cell_type": "markdown",
   "id": "qq2RWZ-qYaM9",
   "metadata": {
    "id": "qq2RWZ-qYaM9"
   },
   "source": [
    "<img src=\"materials/images/filter-5.png\"/>"
   ]
  },
  {
   "cell_type": "markdown",
   "id": "qs9QfaIBYf8x",
   "metadata": {
    "id": "qs9QfaIBYf8x"
   },
   "source": [
    "The filter slides over the image, pixel by pixel in 3x3-square sections, producing a value in the feature map. The larger the value in that location of the feature map the more what is in that region of the image resembles the feature that the filter is working to detect. When visualized, the larger numbers appear brighter or white while smaller numbers appear dark."
   ]
  },
  {
   "cell_type": "markdown",
   "id": "CfznwvpgYg75",
   "metadata": {
    "id": "CfznwvpgYg75"
   },
   "source": [
    "<img src=\"materials/images/filter-6.png\"/>"
   ]
  },
  {
   "cell_type": "markdown",
   "id": "6jdDc_ciYmmI",
   "metadata": {
    "id": "6jdDc_ciYmmI"
   },
   "source": [
    "\n",
    "\n",
    "---\n",
    "\n"
   ]
  },
  {
   "cell_type": "markdown",
   "id": "25c03927",
   "metadata": {
    "id": "25c03927"
   },
   "source": [
    "In the early layers of the CNN, a set of learnable filters (kernels) slide over the whole image detecting specific patterns or features in the image such as edges, corners, or textures that are important toward the classification or prediction of the image. This is the **convolution** process and takes place within a convolutional layer."
   ]
  },
  {
   "cell_type": "markdown",
   "id": "db312ab6",
   "metadata": {
    "id": "db312ab6"
   },
   "source": [
    "<img src=\"materials/images/cnn.png\"/>"
   ]
  },
  {
   "cell_type": "markdown",
   "id": "08969a80",
   "metadata": {
    "id": "08969a80"
   },
   "source": [
    "After a filter has slid over the entire image, it produces a **feature map** -- a \"map\" of where an important feature is within the image."
   ]
  },
  {
   "cell_type": "markdown",
   "id": "S9OS_7ZnZ4_y",
   "metadata": {
    "id": "S9OS_7ZnZ4_y"
   },
   "source": [
    "<img src=\"materials/images/feature-map-1.png\"/>"
   ]
  },
  {
   "cell_type": "markdown",
   "id": "25f6b0e3",
   "metadata": {
    "id": "25f6b0e3"
   },
   "source": [
    "<img src=\"materials/images/feature-map.png\"/>"
   ]
  },
  {
   "cell_type": "markdown",
   "id": "32f052fa",
   "metadata": {
    "id": "32f052fa"
   },
   "source": [
    "---"
   ]
  },
  {
   "cell_type": "markdown",
   "id": "414c094a",
   "metadata": {
    "id": "414c094a"
   },
   "source": [
    "## Feature map\n",
    "Each number in a feature map is a mathematical combination of a filter and the pixel values within the image at that location. **This is what is known as a convolution**. The larger the number in a given region of a feature map, the more what is in that region resembles the feature that the filter is working to detect. When visualized, the larger numbers appear brighter or white while smaller numbers appear dark."
   ]
  },
  {
   "cell_type": "markdown",
   "id": "10d03f3e",
   "metadata": {
    "id": "10d03f3e"
   },
   "source": [
    "<img src=\"materials/images/feature-map-1.png\"/>"
   ]
  },
  {
   "cell_type": "markdown",
   "id": "6e56547d",
   "metadata": {
    "id": "6e56547d"
   },
   "source": [
    "---"
   ]
  },
  {
   "cell_type": "markdown",
   "id": "2c2b6ab9",
   "metadata": {
    "id": "2c2b6ab9"
   },
   "source": [
    "## Filter"
   ]
  },
  {
   "cell_type": "markdown",
   "id": "670071e5",
   "metadata": {
    "id": "670071e5"
   },
   "source": [
    "**A filter** is just a learned combination of values, typically in a 3x3 square. When those values are combined (convolved) with the pixel values in an image, it results in the identification of a specific, significant feature from within the image.\n",
    "\n",
    "You can tell the convolutional layer how many filters to learn but not which filters to learn. As mentioned, the CNN learns the filters that aid in its correct classification of images.  For example, **with brain** imaging, if the CNN found that identifying the edges of a CT image would be helpful toward correctly classifying the image, perhaps an edge-detection filter would be learned."
   ]
  },
  {
   "cell_type": "markdown",
   "id": "9a66c58a",
   "metadata": {
    "id": "9a66c58a"
   },
   "source": [
    "<img src=\"materials/images/edge-detection-filter.png\"/>"
   ]
  },
  {
   "cell_type": "markdown",
   "id": "e7866e93",
   "metadata": {
    "id": "e7866e93"
   },
   "source": [
    "---"
   ]
  },
  {
   "cell_type": "markdown",
   "id": "f14aa959",
   "metadata": {
    "id": "f14aa959"
   },
   "source": [
    "As a filter slides over an image, the parts of an image containing a specific feature often appear brighter or white. The final result is a feature map. You can think of a filter as filtering out everything except the feature that it has learned is important toward the model's prediction."
   ]
  },
  {
   "cell_type": "markdown",
   "id": "4bb89376",
   "metadata": {
    "id": "4bb89376"
   },
   "source": [
    "<img src=\"materials/images/feature-map-2.png\"/>"
   ]
  },
  {
   "cell_type": "markdown",
   "id": "4142c51a",
   "metadata": {
    "id": "4142c51a"
   },
   "source": [
    "## A single feature map\n",
    "This feature map (a visualization of the numerical values), resulting from an edge-detection filter, identifies or has learned the edges of the image."
   ]
  },
  {
   "cell_type": "markdown",
   "id": "646967b6",
   "metadata": {
    "id": "646967b6"
   },
   "source": [
    "<img src=\"materials/images/single-feature-map.png\"/>"
   ]
  },
  {
   "cell_type": "markdown",
   "id": "a845c565",
   "metadata": {
    "id": "a845c565"
   },
   "source": [
    "---"
   ]
  },
  {
   "cell_type": "markdown",
   "id": "70b1f51f",
   "metadata": {
    "id": "70b1f51f"
   },
   "source": [
    "## Stacked feature maps"
   ]
  },
  {
   "cell_type": "markdown",
   "id": "f4214ef8",
   "metadata": {
    "id": "f4214ef8"
   },
   "source": [
    "Several learned filters will extract relevant features from the image and the collective feature maps are stacked on top of each other **following the first convolution**.\n",
    "\n",
    "The spatial dimensions of the feature maps are then reduced (known as **pooling**) which helps reduce computational complexity and makes the network more robust to spatial variations of the features."
   ]
  },
  {
   "cell_type": "markdown",
   "id": "3cd1e907",
   "metadata": {
    "id": "3cd1e907"
   },
   "source": [
    "<img src=\"materials/images/staked-feature-maps.png\"/>"
   ]
  },
  {
   "cell_type": "markdown",
   "id": "f3197270",
   "metadata": {
    "id": "f3197270"
   },
   "source": [
    "## Pooling\n",
    "Pooling in a convolutional neural network (CNN) is like summarizing the important features in an image. You don't need to get lost in every tiny detail but rather you just want to preserve the image's main characteristics."
   ]
  },
  {
   "cell_type": "markdown",
   "id": "98b72649",
   "metadata": {
    "id": "98b72649"
   },
   "source": [
    "### Max pooling\n",
    "Max pooling is what is typically used to summarize a feature map. The largest number in an area of a feature map indicates a feature most like what the filter is searching for. So, max pooling divides the image into 2x2 squares. It then **selects the largest number** as a description of the most prominent feature in that region."
   ]
  },
  {
   "cell_type": "markdown",
   "id": "232f01e0",
   "metadata": {
    "id": "232f01e0"
   },
   "source": [
    "<img src=\"materials/images/max-pooling.png\"/>"
   ]
  },
  {
   "cell_type": "markdown",
   "id": "17363bc5",
   "metadata": {
    "id": "17363bc5"
   },
   "source": [
    "For example, in the upper-left 2x2 region in the feature map above, 6 is the largest value so this will be preserved as a summary of that region. Similary, in the remaining 2x2 regions, the largest values will be retained as a summary of their respective regions. The result is the pooling layer."
   ]
  },
  {
   "cell_type": "markdown",
   "id": "8f60958e",
   "metadata": {
    "id": "8f60958e"
   },
   "source": [
    "### Reducing the image (feature map)\n",
    "\n",
    "The result of the max pooling step is that you shrink the image by replacing each small section with just the maximum value. So, your big, detailed feature map becomes smaller (one-fourth the original size) and simpler with each pooling step, but it still retains the essential features."
   ]
  },
  {
   "cell_type": "markdown",
   "id": "eefe5fb0",
   "metadata": {
    "id": "eefe5fb0"
   },
   "source": [
    "<img src=\"materials/images/max-pooling-example.png\"/>"
   ]
  },
  {
   "cell_type": "markdown",
   "id": "6a51daa5",
   "metadata": {
    "id": "6a51daa5"
   },
   "source": [
    "### Why is pooling useful?\n",
    "\n",
    "Pooling helps reduce the amount of data and computation in a CNN while preserving the critical features. This makes the network more efficient while still capturing the main characteristics of the image."
   ]
  },
  {
   "cell_type": "markdown",
   "id": "a9cdc67a",
   "metadata": {
    "id": "a9cdc67a"
   },
   "source": [
    "---"
   ]
  },
  {
   "cell_type": "markdown",
   "id": "44cbdc0b",
   "metadata": {
    "id": "44cbdc0b"
   },
   "source": [
    "## Deep learning"
   ]
  },
  {
   "cell_type": "markdown",
   "id": "302a08d4",
   "metadata": {
    "id": "302a08d4"
   },
   "source": [
    "This convolutional process is typically repeated multiple times such that successive convolutions are smaller because of pooling, and deeper because of more learned filters and their resulting feature maps. This creates a hierarchy of features.\n",
    "\n",
    "As the image moves deeper into the network, the filters and layers learn to recognize more abstract and higher-level patterns. This results in the network's extraction of the image's most important features in the final convolutional layer."
   ]
  },
  {
   "cell_type": "markdown",
   "id": "cfbcd96b",
   "metadata": {
    "id": "cfbcd96b"
   },
   "source": [
    "<img src=\"materials/images/deep-learning.png\"/>"
   ]
  },
  {
   "cell_type": "markdown",
   "id": "979a8c07",
   "metadata": {
    "id": "979a8c07"
   },
   "source": [
    "---"
   ]
  },
  {
   "cell_type": "markdown",
   "id": "8912045e",
   "metadata": {
    "id": "8912045e"
   },
   "source": [
    "### Flattening"
   ]
  },
  {
   "cell_type": "markdown",
   "id": "86f26bc4",
   "metadata": {
    "id": "86f26bc4"
   },
   "source": [
    "Following the final convolutional layer, the output is flattened into a one-dimensional vector. This step prepares the data to be fed into the input layer of the fully-connected neural network.\n",
    "\n",
    "The flattened layer is the input to the neural network. The feature maps from the convolutional layers are square or two-dimensional. A neural network requires its input to be one-dimensional so we **flatten the feature maps out into one long array of numbers to be fed to the neural network**."
   ]
  },
  {
   "cell_type": "markdown",
   "id": "75eaa3b7",
   "metadata": {
    "id": "75eaa3b7"
   },
   "source": [
    "<img src=\"materials/images/cnn-flatten.png\"/>"
   ]
  },
  {
   "cell_type": "markdown",
   "id": "1c92db29",
   "metadata": {
    "id": "1c92db29"
   },
   "source": [
    "### Fully-Connected (Hidden) Layers:"
   ]
  },
  {
   "cell_type": "markdown",
   "id": "89cfbd5a",
   "metadata": {
    "id": "89cfbd5a"
   },
   "source": [
    "The input layer of a neural network expects a one-dimensional series of values from which to learn to make predictions. Thus, the features extracted during the convolutional process need to be flattened into one long array of values prior to being provided as input to the neural network.\n",
    "\n",
    "From the input layer, the values are then passed through one or more fully-connected (hidden) layers, which act as a traditional neural network. These layers learn to combine the extracted features and make classifications based on the learned representations."
   ]
  },
  {
   "cell_type": "markdown",
   "id": "8101d378",
   "metadata": {
    "id": "8101d378"
   },
   "source": [
    "### Output Layer:"
   ]
  },
  {
   "cell_type": "markdown",
   "id": "1d8f85c2",
   "metadata": {
    "id": "1d8f85c2"
   },
   "source": [
    "The final fully-connected (hidden) layer connects to the output layer, which produces the network's predictions."
   ]
  },
  {
   "cell_type": "markdown",
   "id": "c6535dcd",
   "metadata": {
    "id": "c6535dcd"
   },
   "source": [
    "---"
   ]
  },
  {
   "cell_type": "markdown",
   "id": "98486f15",
   "metadata": {
    "id": "98486f15"
   },
   "source": [
    "## Summary"
   ]
  },
  {
   "cell_type": "markdown",
   "id": "9b740870",
   "metadata": {
    "id": "9b740870"
   },
   "source": [
    "The CNN consists of a series of layers which successively extract the most important features from an image related to a classification task. Those features are then flattened and passed on to a fully-connected neural network which performs the classification."
   ]
  },
  {
   "cell_type": "markdown",
   "id": "56a53116",
   "metadata": {
    "id": "56a53116"
   },
   "source": [
    "<img src=\"materials/images/deep-learning-1.png\"/>"
   ]
  },
  {
   "cell_type": "markdown",
   "id": "e96476c4",
   "metadata": {
    "id": "e96476c4"
   },
   "source": [
    "The **convolutional layers** perform feature extraction."
   ]
  },
  {
   "cell_type": "markdown",
   "id": "2dc31ae4",
   "metadata": {
    "id": "2dc31ae4"
   },
   "source": [
    "<img src=\"materials/images/feature-extraction.png\"/>"
   ]
  },
  {
   "cell_type": "markdown",
   "id": "1565cbb7",
   "metadata": {
    "id": "1565cbb7"
   },
   "source": [
    "The **fully-connected layers** (neural network) perform image classification (prediction)."
   ]
  },
  {
   "cell_type": "markdown",
   "id": "f9c2bab4",
   "metadata": {
    "id": "f9c2bab4"
   },
   "source": [
    "<img src=\"materials/images/classification.png\"/>"
   ]
  },
  {
   "cell_type": "markdown",
   "id": "161e28f6",
   "metadata": {
    "id": "161e28f6"
   },
   "source": [
    "[link text](https://)<div class=\"alert alert-block alert-info\">\n",
    "<b>Note:</b> The process of passing an image through these successive layers allows the CNN to learn hierarchical representations of the input data. Early layers capture low-level features like edges and textures, while deeper layers learn more complex and abstract representations, such as object parts or entire objects. Through this hierarchical learning, the CNN can make accurate predictions for image recognition tasks.\n",
    "</div>"
   ]
  },
  {
   "cell_type": "markdown",
   "id": "4c36d578",
   "metadata": {
    "id": "4c36d578"
   },
   "source": [
    "---"
   ]
  },
  {
   "cell_type": "markdown",
   "id": "61f046c8",
   "metadata": {
    "id": "61f046c8"
   },
   "source": [
    "# Build and train a deep learning model\n",
    "\n",
    "We will use TensorFlow, a deep learning library, to build and train a Convolutional Neural Network to classify brain CT images."
   ]
  },
  {
   "cell_type": "markdown",
   "id": "06a6a5be",
   "metadata": {
    "id": "06a6a5be"
   },
   "source": [
    "## 1. Medical imaging dataset\n",
    "\n",
    "We're going to use a small medical imaging dataset consisting of 140 CT images of the brain. The images will be classified as either **normal** or **hemorrhage** (70 from each class). We will also provide 60 images (30 from each class) as a validation set so that the model can assess it's performance during training. After the model has been trained, we will evaluate the model's performance using 10 test images."
   ]
  },
  {
   "cell_type": "markdown",
   "id": "17ae6999",
   "metadata": {
    "id": "17ae6999"
   },
   "source": [
    "### 1.1 Preview of brain CT images"
   ]
  },
  {
   "cell_type": "code",
   "execution_count": 1,
   "id": "e9b25839",
   "metadata": {
    "id": "e9b25839"
   },
   "outputs": [
    {
     "name": "stdout",
     "output_type": "stream",
     "text": [
      "Sample Images\n"
     ]
    },
    {
     "data": {
      "image/png": "[encoded data removed]",
      "text/plain": [
       "<Figure size 500x500 with 9 Axes>"
      ]
     },
     "metadata": {},
     "output_type": "display_data"
    }
   ],
   "source": [
    "import os\n",
    "import random\n",
    "import matplotlib.pyplot as plt\n",
    "\n",
    "# Location of images\n",
    "path = 'data/head_ct_slices/train/normal/'\n",
    "image_files = os.listdir(path)\n",
    "\n",
    "print('Sample Images')\n",
    "\n",
    "# Set the figure (canvas) size of the collective displayed images.\n",
    "plt.figure(figsize=(5,5))\n",
    "\n",
    "# Select and display random images\n",
    "for i in range(9):\n",
    "    plt.subplot(3, 3, i + 1)\n",
    "    img = plt.imread(os.path.join(path, image_files[random.randrange(0, len(image_files))]))\n",
    "    plt.imshow(img)\n",
    "    plt.axis('off')\n",
    "\n",
    "# Adjust subplot parameters so that images are more evenly padded\n",
    "plt.tight_layout()"
   ]
  },
  {
   "cell_type": "markdown",
   "id": "eac42510",
   "metadata": {
    "id": "eac42510"
   },
   "source": [
    "### 1.2 Direct TensorFlow to our images\n",
    "\n",
    "We'll use TensorFlow's ImageDataGenerator to locate, and prepare our images for training."
   ]
  },
  {
   "cell_type": "code",
   "execution_count": 2,
   "id": "b27c5df8",
   "metadata": {
    "id": "b27c5df8"
   },
   "outputs": [
    {
     "name": "stderr",
     "output_type": "stream",
     "text": [
      "2025-04-11 08:31:26.716952: I tensorflow/core/platform/cpu_feature_guard.cc:182] This TensorFlow binary is optimized to use available CPU instructions in performance-critical operations.\n",
      "To enable the following instructions: SSE4.1 SSE4.2 AVX AVX2 AVX512F FMA, in other operations, rebuild TensorFlow with the appropriate compiler flags.\n"
     ]
    },
    {
     "name": "stdout",
     "output_type": "stream",
     "text": [
      "Found 140 images belonging to 2 classes.\n",
      "Found 60 images belonging to 2 classes.\n"
     ]
    }
   ],
   "source": [
    "from tensorflow.keras.preprocessing.image import ImageDataGenerator\n",
    "\n",
    "# Normalize images: normalization typically entails scaling values to between 0 and 1.\n",
    "                  # Images are made of pixels with varying intensities from 0 to 255.\n",
    "                  # So normalizing the images (dividing each pixel by 255) scales the pixel values to between 0 and 1.\n",
    "                  # This range of values is more effective for a neural network to learn from.\n",
    "train_data_generator = ImageDataGenerator(rescale=1/255)\n",
    "validate_data_generator = ImageDataGenerator(rescale=1./255)\n",
    "\n",
    "# Indicate the location of our train and validation set of images.\n",
    "train_folder = \"data/head_ct_slices/train/\"\n",
    "validation_folder = \"data/head_ct_slices/validate/\"\n",
    "\n",
    "# Provide images to the model in batches using the train_data_generator\n",
    "train_generator = train_data_generator.flow_from_directory(\n",
    "        train_folder,  # This indicates where the images are located.\n",
    "                        # It contains folders whose names will be the class labels of the enclosed images.\n",
    "        target_size=(150, 150), # All images will be resized to 150x150\n",
    "        batch_size=10,        # The generator will provide the model with 10 images at a time as it's \"learning.\"\n",
    "        class_mode=\"binary\")   # We use \"binary\" because there are two classes (i.e. normal, hemorrhage)\n",
    "\n",
    "# Provide the model with a validation set of images using the validate_data_generator\n",
    "validate_generator = validate_data_generator.flow_from_directory(\n",
    "        validation_folder,\n",
    "        target_size=(150, 150),  # All images will be resized to 150x150\n",
    "        batch_size=10,\n",
    "        class_mode='binary')"
   ]
  },
  {
   "cell_type": "markdown",
   "id": "e9eb29dd",
   "metadata": {
    "id": "e9eb29dd"
   },
   "source": [
    "Notice the feedback above: we're told that TensorFlow has located our 140 training images belonging to 2 classes (i.e., normal, hemorrhage) and our 60 validation images (belonging to 2 classes)."
   ]
  },
  {
   "cell_type": "markdown",
   "id": "6ca309ce",
   "metadata": {
    "id": "6ca309ce"
   },
   "source": [
    "---"
   ]
  },
  {
   "cell_type": "markdown",
   "id": "5955fdcd",
   "metadata": {
    "id": "5955fdcd"
   },
   "source": [
    "## 2. Build a deep learning model"
   ]
  },
  {
   "cell_type": "markdown",
   "id": "99a73b99",
   "metadata": {
    "id": "99a73b99"
   },
   "source": [
    "### 2.1 Build a Convolutional Neural Network (CNN)\n",
    "\n",
    "Keep in mind the summary image above as we build the layers of our CNN model."
   ]
  },
  {
   "cell_type": "code",
   "execution_count": 4,
   "id": "22dc5c32",
   "metadata": {
    "id": "22dc5c32"
   },
   "outputs": [],
   "source": [
    "from tensorflow.keras import models, layers\n",
    "\n",
    "model = models.Sequential([\n",
    "\n",
    "    ### DEEP LEARNING ###\n",
    "\n",
    "    # Layer 1\n",
    "    # Convolution (learning 16 filters) & Pooling\n",
    "    layers.Conv2D(16, (3,3), activation='relu', input_shape=(150, 150, 3)), # The shape of the images is 150x150.\n",
    "    layers.MaxPooling2D(),                       # The depth of the image is 1 since the image is only grayscale.\n",
    "\n",
    "    # Layer 2\n",
    "    # Convolution (learning 32 filters) & Pooling Layer\n",
    "    layers.Conv2D(32, (3,3), activation='relu'),\n",
    "    layers.MaxPooling2D(),\n",
    "\n",
    "    # Layer 3\n",
    "    # Convolution (learning 64 filters) & Pooling Layer\n",
    "    layers.Conv2D(64, (3,3), activation='relu'),\n",
    "    layers.MaxPooling2D(),\n",
    "\n",
    "    # Layer 4\n",
    "    # Convolution (learning 64 filters) & Pooling Layer\n",
    "    layers.Conv2D(64, (3,3), activation='relu'),\n",
    "    layers.MaxPooling2D(),\n",
    "\n",
    "    # Layer 5\n",
    "    # Convolution (learning 128 filters) & Pooling Layer\n",
    "    layers.Conv2D(128, (3,3), activation='relu'),\n",
    "    layers.MaxPooling2D(),\n",
    "\n",
    "\n",
    "    # Fully-Connected Layer\n",
    "    # Flatten the learned features into a 1-dimensional array of values.\n",
    "    # Pass the learned features to the fully-connected layer (Dense layer in TensorFlow) for prediction.\n",
    "    layers.Flatten(),\n",
    "    layers.Dense(256, activation='relu'), # 'relu' helps the model focus on what's most important and speeds up training\n",
    "    layers.Dense(1, activation='sigmoid') # 'sigmoid' ensures that the prediction will be between 0 and 1,\n",
    "                                          # interpreted as the probability of being in the positive class (\"normal\").\n",
    "])\n",
    "\n",
    "\n",
    "\n",
    "# Compile the Built Model\n",
    "# 'binary_crossentropy' (this is a binary task) tells the model how to measure its loss (error)\n",
    "# 'adam' indicates how the model will adjust its weights, while learning, to decrease its loss (error)\n",
    "model.compile(optimizer='adam',\n",
    "              loss='binary_crossentropy',\n",
    "              metrics = ['accuracy'])"
   ]
  },
  {
   "cell_type": "markdown",
   "id": "537d29ae",
   "metadata": {
    "id": "537d29ae"
   },
   "source": [
    "### 2.2. Train the CNN to learn from our images\n",
    "\n",
    "Now that the model is built, let's train it to classify the normal and hemorrhage brain images."
   ]
  },
  {
   "cell_type": "markdown",
   "id": "6f736072",
   "metadata": {
    "id": "6f736072"
   },
   "source": [
    "`model.fit()` instructs the model to begin training."
   ]
  },
  {
   "cell_type": "code",
   "execution_count": 5,
   "id": "4f7684b9",
   "metadata": {
    "id": "4f7684b9"
   },
   "outputs": [
    {
     "name": "stdout",
     "output_type": "stream",
     "text": [
      "Epoch 1/10\n",
      "14/14 [==============================] - 5s 252ms/step - loss: 0.6865 - accuracy: 0.5286 - val_loss: 0.6605 - val_accuracy: 0.5000\n",
      "Epoch 2/10\n",
      "14/14 [==============================] - 3s 234ms/step - loss: 0.5824 - accuracy: 0.7214 - val_loss: 0.5939 - val_accuracy: 0.6667\n",
      "Epoch 3/10\n",
      "14/14 [==============================] - 3s 234ms/step - loss: 0.3951 - accuracy: 0.8071 - val_loss: 0.3462 - val_accuracy: 0.8333\n",
      "Epoch 4/10\n",
      "14/14 [==============================] - 3s 236ms/step - loss: 0.3636 - accuracy: 0.8357 - val_loss: 0.3833 - val_accuracy: 0.8167\n",
      "Epoch 5/10\n",
      "14/14 [==============================] - 3s 232ms/step - loss: 0.3452 - accuracy: 0.8500 - val_loss: 0.5639 - val_accuracy: 0.7000\n",
      "Epoch 6/10\n",
      "14/14 [==============================] - 3s 234ms/step - loss: 0.3482 - accuracy: 0.8500 - val_loss: 0.4999 - val_accuracy: 0.7333\n",
      "Epoch 7/10\n",
      "14/14 [==============================] - 3s 236ms/step - loss: 0.3654 - accuracy: 0.8429 - val_loss: 0.4547 - val_accuracy: 0.7500\n",
      "Epoch 8/10\n",
      "14/14 [==============================] - 3s 235ms/step - loss: 0.2855 - accuracy: 0.8929 - val_loss: 0.3642 - val_accuracy: 0.8333\n",
      "Epoch 9/10\n",
      "14/14 [==============================] - 3s 235ms/step - loss: 0.2291 - accuracy: 0.8929 - val_loss: 0.4876 - val_accuracy: 0.7500\n",
      "Epoch 10/10\n",
      "14/14 [==============================] - 3s 234ms/step - loss: 0.1979 - accuracy: 0.9143 - val_loss: 0.5756 - val_accuracy: 0.7167\n"
     ]
    }
   ],
   "source": [
    "history = model.fit(\n",
    "      train_generator,  # Provides the training images to the model.\n",
    "      validation_data = validate_generator, # Provides the validation set of images to the model to assess training.\n",
    "      epochs=10)        # The number of times the model will get to go through all 140 of the training images."
   ]
  },
  {
   "cell_type": "markdown",
   "id": "d2816f93",
   "metadata": {
    "id": "d2816f93"
   },
   "source": [
    "### 2.3 Understand the output above\n",
    "\n",
    "As the model begins training, it receives 10 random images at a time (we previously set the batch size to 10). It then makes predictions on those 10 images, compares its predictions to the actual labels, notes its loss (error), and then adjusts its weights to reduce its loss. It is attempting to learn the best features that will enable it to correctly classify the images.\n",
    "\n",
    "It then will receive the next batch of 10 images. This continues until the 140 training images are exhausted, after which it will then assess its performance on the 60 validation images before going back through and learning from all of the training images again.\n",
    "\n",
    "We have set the number of epochs to 10. This means that the model can go through all 140 of the brain images 10 times, learning as it goes. Each of the lines above is an epoch. The next line is the model going through all 140 of the images an additional time.\n",
    "\n",
    "Note the model's **accuracy** toward right. This indicates the proportion of the model's predictions that were classified correctly as it's training. This should improve with each epoch (loop through all of the images). The model's **loss** indicates its error when making predictions. As loss drops, accuracy tends to increase.\n",
    "\n",
    "Following the model's accuracy is the model's **val_loss** and **val_accuracy**. This displays the models performance on the \"unseen\" validation set. Ideally, accuracy on the validation set should not be overly different from the model's accuracy on the training set."
   ]
  },
  {
   "cell_type": "markdown",
   "id": "d8096dac",
   "metadata": {
    "id": "d8096dac"
   },
   "source": [
    "<div class=\"alert alert-block alert-info\">\n",
    "    <b>Note:</b>  For medical datasets, there are other common performance metrics such as <b>sensitivity and specificity</b>, but we will use accuracy here.\n",
    "</div>"
   ]
  },
  {
   "cell_type": "markdown",
   "id": "162f6293",
   "metadata": {
    "id": "162f6293"
   },
   "source": [
    "---"
   ]
  },
  {
   "cell_type": "markdown",
   "id": "ca3c44f3",
   "metadata": {
    "id": "ca3c44f3"
   },
   "source": [
    "## 3. Evaluate the model's performance on test images"
   ]
  },
  {
   "cell_type": "code",
   "execution_count": 6,
   "id": "5f7f72c9",
   "metadata": {
    "id": "5f7f72c9",
    "scrolled": true
   },
   "outputs": [
    {
     "name": "stdout",
     "output_type": "stream",
     "text": [
      "1/1 [==============================] - 0s 95ms/step\n",
      "Prediction: [0.9987632]\n",
      "normal_173.png is normal\n",
      "\n",
      "\n",
      "1/1 [==============================] - 0s 19ms/step\n",
      "Prediction: [0.9980502]\n",
      "normal_174.png is normal\n",
      "\n",
      "\n",
      "1/1 [==============================] - 0s 19ms/step\n",
      "Prediction: [0.7578944]\n",
      "hemorrhage_074.png is normal\n",
      "\n",
      "\n",
      "1/1 [==============================] - 0s 23ms/step\n",
      "Prediction: [0.0173311]\n",
      "hemorrhage_071.png is hemorrhage\n",
      "\n",
      "\n",
      "1/1 [==============================] - 0s 19ms/step\n",
      "Prediction: [0.99915195]\n",
      "normal_170.png is normal\n",
      "\n",
      "\n",
      "1/1 [==============================] - 0s 19ms/step\n",
      "Prediction: [0.99877733]\n",
      "normal_171.png is normal\n",
      "\n",
      "\n",
      "1/1 [==============================] - 0s 19ms/step\n",
      "Prediction: [0.01650297]\n",
      "hemorrhage_072.png is hemorrhage\n",
      "\n",
      "\n",
      "1/1 [==============================] - 0s 19ms/step\n",
      "Prediction: [0.02419978]\n",
      "hemorrhage_073.png is hemorrhage\n",
      "\n",
      "\n",
      "1/1 [==============================] - 0s 19ms/step\n",
      "Prediction: [0.9989484]\n",
      "normal_172.png is normal\n",
      "\n",
      "\n",
      "1/1 [==============================] - 0s 19ms/step\n",
      "Prediction: [0.98916805]\n",
      "hemorrhage_070.png is normal\n",
      "\n",
      "\n"
     ]
    }
   ],
   "source": [
    "from tensorflow.keras.preprocessing import image\n",
    "import numpy as np\n",
    "import os\n",
    "\n",
    "#  The location of our test (unseen) images, used to evaluate the model's predictions\n",
    "test_images = os.listdir(\"data/head_ct_slices/test\")\n",
    "\n",
    "# Make predictions on the test images\n",
    "for file_name in test_images:\n",
    "    path = \"data/head_ct_slices/test/\" + file_name\n",
    "    test_img = image.load_img(path, target_size = (150,150)) # Resize images to the same size the model trained on.\n",
    "    img = image.img_to_array(test_img)\n",
    "    img /= 255.0    # Normalize the images (scale the values to between 0 and 1).\n",
    "    img = np.expand_dims(img, axis = 0)\n",
    "\n",
    "  # Predict an image's class\n",
    "    prediction = model.predict(img)\n",
    "\n",
    "  # Output the prediction score\n",
    "    print(f\"Prediction: {prediction[0]}\") # The model's probability score that the image is \"normal\"\n",
    "                                          # Probability < 0.5 predicts \"hemorrhage\".\n",
    "                                          # Probability >= 0.5 predicts \"normal\".\n",
    "  # Output the file name\n",
    "    if prediction[0] < 0.5:\n",
    "        print(file_name + \" is hemorrhage\")\n",
    "\n",
    "    else:\n",
    "        print(file_name + \" is normal\")\n",
    "    print('\\n')"
   ]
  },
  {
   "cell_type": "markdown",
   "id": "53930cc5",
   "metadata": {
    "id": "53930cc5"
   },
   "source": [
    "### Evaluate the predictions"
   ]
  },
  {
   "cell_type": "markdown",
   "id": "90652985",
   "metadata": {
    "id": "90652985"
   },
   "source": [
    "Above are predictions on the 10 test images -- images that the model has never \"seen\".\n",
    "\n",
    "An image with \"normal\" in its name should be predicted to be in the class \"normal\", and an image with \"hemorrhage\" in its name should be predicted to be in the class \"hemorrhage\".\n",
    "\n",
    "The \"Prediction\" value indicates the model's confidence (probability) that the image is normal:\n",
    "- Closer to 0, the model predicts hemorrhage.\n",
    "- Closer to 1, the model predicts normal.\n",
    "\n",
    "A deep learning model's performance can be improved by providing it with more images, or by tuning the model's parameters (e.g., adjusting the properties of the convolutional layers or the fully-connected layers)."
   ]
  },
  {
   "cell_type": "markdown",
   "id": "ef467ebd",
   "metadata": {
    "id": "ef467ebd"
   },
   "source": [
    "\n",
    "---"
   ]
  },
  {
   "cell_type": "markdown",
   "id": "d869cf7e",
   "metadata": {
    "id": "d869cf7e"
   },
   "source": [
    "# Deep Learning for Genomics"
   ]
  },
  {
   "cell_type": "markdown",
   "id": "d2e73a22",
   "metadata": {
    "id": "d2e73a22"
   },
   "source": [
    "Deep learning is also being leveraged in the biological and life sciences domains (e.g., Genomics). Here, we will apply **deep learning for genome analysis**."
   ]
  },
  {
   "cell_type": "markdown",
   "id": "9b94fe2c",
   "metadata": {
    "id": "9b94fe2c"
   },
   "source": [
    "## Use case: Predicting transcription-factor binding sites (TFBS) in the human genome\n",
    "\n",
    "An important problem in functional Genomics is the discovery of transcription-factor binding sites in DNA.\n",
    "\n",
    "**Transcription Factors (TF)** are proteins that bind to the regulatory regions of the DNA, such as promoters, and either promote or repress gene expression. In other words, transcription factors control gene regulation.\n",
    "\n",
    "Each TF has a specific binding motif (i.e., pattern or sequence of bases) in the DNA that it binds to, referred to as a **transcription-factor binding site (TFBS)**. These binding sites are crucial because they control various processes in the body. When a molecule attaches to a binding site, it can switch genes on or off.\n",
    "\n",
    "Our goal is to build a predictive model. The model aims to predict whether a particular sequence of bases will bind to the transcription factor.  In other words, we will use deep learning (CNN) to discover if a DNA sequence has a transcription-factor binding site or not, achieving the task of predicting gene expression from a DNA sequence."
   ]
  },
  {
   "cell_type": "markdown",
   "id": "d9171a7d",
   "metadata": {
    "id": "d9171a7d"
   },
   "source": [
    "---"
   ]
  },
  {
   "cell_type": "markdown",
   "id": "0158f231",
   "metadata": {
    "id": "0158f231"
   },
   "source": [
    "## Data Preprocessing"
   ]
  },
  {
   "cell_type": "markdown",
   "id": "31fbe6df",
   "metadata": {
    "id": "31fbe6df"
   },
   "source": [
    "Deep learning algorithms typically expect data in the form of numbers. For DNA, we have 4 non-numeric bases: A, C, T and G. We will need to encode these into numbers using one-hot encoding."
   ]
  },
  {
   "cell_type": "markdown",
   "id": "d39e777f",
   "metadata": {
    "id": "d39e777f"
   },
   "source": [
    "<img src=\"materials/images/dna-bases.png\"/>"
   ]
  },
  {
   "cell_type": "markdown",
   "id": "f3f91ac1",
   "metadata": {
    "id": "f3f91ac1"
   },
   "source": [
    "### One-hot encoding"
   ]
  },
  {
   "cell_type": "markdown",
   "id": "d7159c2d",
   "metadata": {
    "id": "d7159c2d"
   },
   "source": [
    "One-hot encoding creates a matrix of numbers with each base being represented by a four-number vector. For example, a 1 in the first position in the vector with the rest set to 0 indicates base \"A\". A 1 in the second position with the rest set to 0 indicates base \"C\". Similarly, a 1 in the third and fourth positions indicates \"T\" and \"G\", respectively.  "
   ]
  },
  {
   "cell_type": "markdown",
   "id": "c600a813",
   "metadata": {
    "id": "c600a813"
   },
   "source": [
    "<img src=\"materials/images/one-hot-encoding.png\"/>"
   ]
  },
  {
   "cell_type": "markdown",
   "id": "24ca98e3",
   "metadata": {
    "id": "24ca98e3"
   },
   "source": [
    "We concatenate the bases together as a sequence of 4-dimensional vectors to form a matrix. So, the base sequence of ACGCTA would be represented as:"
   ]
  },
  {
   "cell_type": "markdown",
   "id": "b31b47dc",
   "metadata": {
    "id": "b31b47dc"
   },
   "source": [
    "<img src=\"materials/images/ACGCTA.png\"/>"
   ]
  },
  {
   "cell_type": "markdown",
   "id": "e17ddbc2",
   "metadata": {
    "id": "e17ddbc2"
   },
   "source": [
    "---"
   ]
  },
  {
   "cell_type": "markdown",
   "id": "2d239f0d",
   "metadata": {
    "id": "2d239f0d"
   },
   "source": [
    "# Self Check"
   ]
  },
  {
   "cell_type": "markdown",
   "id": "f398cfa2",
   "metadata": {
    "id": "f398cfa2"
   },
   "source": [
    "Pause for a moment and see if you can determine what the one-hot encoded version of the sequence \"ATCG\" would be."
   ]
  },
  {
   "cell_type": "markdown",
   "id": "df65a0c4",
   "metadata": {
    "id": "df65a0c4"
   },
   "source": [
    "---"
   ]
  },
  {
   "cell_type": "markdown",
   "id": "647aecc2",
   "metadata": {
    "id": "647aecc2"
   },
   "source": [
    "Similar to how deep learning learns from images, a CNN will extract patterns from the one-hot encoded base sequences. These learned patterns will then be combined and flattened into an array of numbers and passed into the hidden layer for model training."
   ]
  },
  {
   "cell_type": "markdown",
   "id": "3387b5f2",
   "metadata": {
    "id": "3387b5f2"
   },
   "source": [
    "<img src=\"materials/images/cnn-bases.png\"/>"
   ]
  },
  {
   "cell_type": "markdown",
   "id": "aee3fa13",
   "metadata": {
    "id": "aee3fa13"
   },
   "source": [
    "<div class=\"alert alert-block alert-info\">\n",
    "    <b>Note:</b>  The above is a simplified illustration. In actuality, a vector of numbers, representing the learned patterns extracted from the sequences, will be passed into the hidden layer.\n",
    "</div>"
   ]
  },
  {
   "cell_type": "markdown",
   "id": "4257c4d4",
   "metadata": {
    "id": "4257c4d4"
   },
   "source": [
    "## 4. Genomic dataset"
   ]
  },
  {
   "cell_type": "markdown",
   "id": "9af9f9df",
   "metadata": {
    "id": "9af9f9df"
   },
   "source": [
    "We will use simulated data that consists of 2000 DNA sequences 50 bases long. These artificially-short sequences will be easier to view and train.\n",
    "\n",
    "Each segment has been labeled to indicate whether or not it includes a binding site. The sequence's label will be either 0 or 1:\n",
    "- 0 doesn’t contain the binding site.\n",
    "- 1 contains the binding site."
   ]
  },
  {
   "cell_type": "code",
   "execution_count": 7,
   "id": "0ba83484",
   "metadata": {
    "id": "0ba83484",
    "scrolled": true
   },
   "outputs": [
    {
     "data": {
      "text/html": [
       "<div>\n",
       "<style scoped>\n",
       "    .dataframe tbody tr th:only-of-type {\n",
       "        vertical-align: middle;\n",
       "    }\n",
       "\n",
       "    .dataframe tbody tr th {\n",
       "        vertical-align: top;\n",
       "    }\n",
       "\n",
       "    .dataframe thead th {\n",
       "        text-align: right;\n",
       "    }\n",
       "</style>\n",
       "<table border=\"1\" class=\"dataframe\">\n",
       "  <thead>\n",
       "    <tr style=\"text-align: right;\">\n",
       "      <th></th>\n",
       "      <th>Sequences</th>\n",
       "      <th>Labels</th>\n",
       "    </tr>\n",
       "  </thead>\n",
       "  <tbody>\n",
       "    <tr>\n",
       "      <th>0</th>\n",
       "      <td>CCGAGGGCTATGGTTTGGAAGTTAGAACCCTGGGGCTTCTCGCGGA...</td>\n",
       "      <td>0</td>\n",
       "    </tr>\n",
       "    <tr>\n",
       "      <th>1</th>\n",
       "      <td>GAGTTTATATGGCGCGAGCCTAGTGGTTTTTGTACTTGTTTGTCGC...</td>\n",
       "      <td>0</td>\n",
       "    </tr>\n",
       "    <tr>\n",
       "      <th>2</th>\n",
       "      <td>GATCAGTAGGGAAACAAACAGAGGGCCCAGCCACATCTAGCAGGTA...</td>\n",
       "      <td>0</td>\n",
       "    </tr>\n",
       "    <tr>\n",
       "      <th>3</th>\n",
       "      <td>GTCCACGACCGAACTCCCACCTTGACCGCAGAGGTACCACCAGAGC...</td>\n",
       "      <td>1</td>\n",
       "    </tr>\n",
       "    <tr>\n",
       "      <th>4</th>\n",
       "      <td>GGCGACCGAACTCCAACTAGAACCTGCATAACTGGCCTGGGAGATA...</td>\n",
       "      <td>1</td>\n",
       "    </tr>\n",
       "  </tbody>\n",
       "</table>\n",
       "</div>"
      ],
      "text/plain": [
       "                                           Sequences  Labels\n",
       "0  CCGAGGGCTATGGTTTGGAAGTTAGAACCCTGGGGCTTCTCGCGGA...       0\n",
       "1  GAGTTTATATGGCGCGAGCCTAGTGGTTTTTGTACTTGTTTGTCGC...       0\n",
       "2  GATCAGTAGGGAAACAAACAGAGGGCCCAGCCACATCTAGCAGGTA...       0\n",
       "3  GTCCACGACCGAACTCCCACCTTGACCGCAGAGGTACCACCAGAGC...       1\n",
       "4  GGCGACCGAACTCCAACTAGAACCTGCATAACTGGCCTGGGAGATA...       1"
      ]
     },
     "execution_count": 7,
     "metadata": {},
     "output_type": "execute_result"
    }
   ],
   "source": [
    "import pandas as pd\n",
    "import numpy as np\n",
    "import matplotlib.pyplot as plt\n",
    "\n",
    "# 2000 sequences, 50 bases in length\n",
    "df = pd.read_csv(\"data/genomics_data.csv\")\n",
    "\n",
    "# Preview first 5 sequences with their labels\n",
    "df.head()"
   ]
  },
  {
   "cell_type": "markdown",
   "id": "58c23f6c",
   "metadata": {
    "id": "58c23f6c"
   },
   "source": [
    "### 4.1 Preprocess data\n",
    "\n",
    "Since DNA is a sequence of non-numeric bases (i.e., A, C, T, G), we must first one-hot encode the sequences before they can be used as input to our deep learning model. Our CNN will then be able to learn to extract useful features from the sequences."
   ]
  },
  {
   "cell_type": "code",
   "execution_count": 8,
   "id": "86f28057",
   "metadata": {
    "id": "86f28057"
   },
   "outputs": [],
   "source": [
    "from sklearn.preprocessing import LabelEncoder, OneHotEncoder\n",
    "\n",
    "# The LabelEncoder encodes each base within a sequence as an integer (0, 1, 2, or 3).\n",
    "integer_encoder = LabelEncoder()\n",
    "\n",
    "# The OneHotEncoder converts each integer into its one-hot encoded representation.\n",
    "one_hot_encoder = OneHotEncoder(categories='auto')\n",
    "\n",
    "input_features = []  # List that one-hot encoded bases will be appended to.\n",
    "\n",
    "# Convert raw bases (i.e., 'A', 'C', 'G', \"T\") to one-hot encoded representation.\n",
    "for indx in df.index:\n",
    "    integer_encoded = integer_encoder.fit_transform(list(df[\"Sequences\"][indx]))# Convert string of bases to numbers\n",
    "    integer_encoded = np.array(integer_encoded).reshape(-1, 1) # Convert the list of numbers to a 1-column array.\n",
    "    one_hot_encoded = one_hot_encoder.fit_transform(integer_encoded) # One-hot encode each number in the array.\n",
    "    input_features.append(one_hot_encoded.toarray()) # Append encoded sequence to \"input_features\" list; REPEAT.\n",
    "\n",
    "input_features = np.stack(input_features)  # Combine all encoded sequences into a single array.\n",
    "input_labels = np.array(df[\"Labels\"]).reshape(-1, 1) # Place the respective labels into \"input_labels\" variable."
   ]
  },
  {
   "cell_type": "markdown",
   "id": "d4db6fcd",
   "metadata": {
    "id": "d4db6fcd"
   },
   "source": [
    "### 4.2 Preview data"
   ]
  },
  {
   "cell_type": "markdown",
   "id": "491bd6dd",
   "metadata": {
    "id": "491bd6dd"
   },
   "source": [
    "#### Sample sequence (unencoded):"
   ]
  },
  {
   "cell_type": "code",
   "execution_count": 9,
   "id": "e3496a16",
   "metadata": {
    "id": "e3496a16"
   },
   "outputs": [
    {
     "data": {
      "text/plain": [
       "'CCGAGGGCTATGGTTTGGAAGTTAGAACCCTGGGGCTTCTCGCGGACACC'"
      ]
     },
     "execution_count": 9,
     "metadata": {},
     "output_type": "execute_result"
    }
   ],
   "source": [
    "df[\"Sequences\"][0]"
   ]
  },
  {
   "cell_type": "markdown",
   "id": "e39b75d5",
   "metadata": {
    "id": "e39b75d5"
   },
   "source": [
    "#### Sample sequence one-hot encoded:"
   ]
  },
  {
   "cell_type": "code",
   "execution_count": 10,
   "id": "ac30394a",
   "metadata": {
    "id": "ac30394a"
   },
   "outputs": [
    {
     "name": "stdout",
     "output_type": "stream",
     "text": [
      "[[0. 1. 0. 0.]\n",
      " [0. 1. 0. 0.]\n",
      " [0. 0. 1. 0.]\n",
      " [1. 0. 0. 0.]\n",
      " [0. 0. 1. 0.]\n",
      " [0. 0. 1. 0.]\n",
      " [0. 0. 1. 0.]\n",
      " [0. 1. 0. 0.]\n",
      " [0. 0. 0. 1.]\n",
      " [1. 0. 0. 0.]\n",
      " [0. 0. 0. 1.]\n",
      " [0. 0. 1. 0.]\n",
      " [0. 0. 1. 0.]\n",
      " [0. 0. 0. 1.]\n",
      " [0. 0. 0. 1.]\n",
      " [0. 0. 0. 1.]\n",
      " [0. 0. 1. 0.]\n",
      " [0. 0. 1. 0.]\n",
      " [1. 0. 0. 0.]\n",
      " [1. 0. 0. 0.]\n",
      " [0. 0. 1. 0.]\n",
      " [0. 0. 0. 1.]\n",
      " [0. 0. 0. 1.]\n",
      " [1. 0. 0. 0.]\n",
      " [0. 0. 1. 0.]\n",
      " [1. 0. 0. 0.]\n",
      " [1. 0. 0. 0.]\n",
      " [0. 1. 0. 0.]\n",
      " [0. 1. 0. 0.]\n",
      " [0. 1. 0. 0.]\n",
      " [0. 0. 0. 1.]\n",
      " [0. 0. 1. 0.]\n",
      " [0. 0. 1. 0.]\n",
      " [0. 0. 1. 0.]\n",
      " [0. 0. 1. 0.]\n",
      " [0. 1. 0. 0.]\n",
      " [0. 0. 0. 1.]\n",
      " [0. 0. 0. 1.]\n",
      " [0. 1. 0. 0.]\n",
      " [0. 0. 0. 1.]\n",
      " [0. 1. 0. 0.]\n",
      " [0. 0. 1. 0.]\n",
      " [0. 1. 0. 0.]\n",
      " [0. 0. 1. 0.]\n",
      " [0. 0. 1. 0.]\n",
      " [1. 0. 0. 0.]\n",
      " [0. 1. 0. 0.]\n",
      " [1. 0. 0. 0.]\n",
      " [0. 1. 0. 0.]\n",
      " [0. 1. 0. 0.]]\n"
     ]
    }
   ],
   "source": [
    "# One-hot encoded: CCGAGGGCTATGGTTTGGAAGTTAGAACCCTGGGGCTTCTCGCGGACACC\n",
    "\n",
    "print(input_features[0])"
   ]
  },
  {
   "cell_type": "markdown",
   "id": "106a0019",
   "metadata": {
    "id": "106a0019"
   },
   "source": [
    "### 4.3 Split the data into train and test sets\n",
    "\n",
    "We'll place 75% of the data (1500 sequences) into a training set. The remaining 25% (500 sequences) will be placed into a test set for later evaluation."
   ]
  },
  {
   "cell_type": "code",
   "execution_count": 11,
   "id": "e608c840",
   "metadata": {
    "id": "e608c840"
   },
   "outputs": [],
   "source": [
    "from sklearn.model_selection import train_test_split\n",
    "\n",
    "train_features, test_features, train_labels, test_labels = train_test_split(\n",
    "    input_features, input_labels, test_size=0.25, random_state=8)"
   ]
  },
  {
   "cell_type": "markdown",
   "id": "db972f1b",
   "metadata": {
    "id": "db972f1b"
   },
   "source": [
    "---"
   ]
  },
  {
   "cell_type": "markdown",
   "id": "c478b420",
   "metadata": {
    "id": "c478b420"
   },
   "source": [
    "## 5. Build a deep learning model"
   ]
  },
  {
   "cell_type": "markdown",
   "id": "8256630d",
   "metadata": {
    "id": "8256630d"
   },
   "source": [
    "### 5.1 Build a Convolutional Neural Network (CNN)\n",
    "\n",
    "Unlike images, which are considered two-dimensional (because they have a depth), our one-hot encoded sequences are considered one-dimensional so we'll use a Conv1D layer for the convolution and a MaxPooling1D layer for the pooling. We'll use just one set of convolution and pooling layers."
   ]
  },
  {
   "cell_type": "code",
   "execution_count": 12,
   "id": "e32aad8d",
   "metadata": {
    "id": "e32aad8d"
   },
   "outputs": [],
   "source": [
    "from tensorflow.keras import layers\n",
    "from tensorflow.keras.models import Sequential\n",
    "\n",
    "model = Sequential([\n",
    "\n",
    "     ### DEEP LEARNING ###\n",
    "\n",
    "    # Convolution & Pooling\n",
    "    layers.Conv1D(filters=32, kernel_size=10, padding=\"same\",\n",
    "                  activation='relu', input_shape=(train_features.shape[1], 4)), # The length of the sequences.\n",
    "    layers.MaxPooling1D(pool_size=4),\n",
    "\n",
    "    # Fully-Connected Layer\n",
    "    # Flatten the learned features into an array of values that are passed to the fully-connected layer.\n",
    "    layers.Flatten(),\n",
    "    layers.Dense(16, activation='relu'),\n",
    "    layers.Dense(1, activation='sigmoid')\n",
    "    ])\n",
    "\n",
    "# Compile the Model\n",
    "model.compile(loss='binary_crossentropy', optimizer='adam', metrics=['accuracy'])"
   ]
  },
  {
   "cell_type": "markdown",
   "id": "3c323c15",
   "metadata": {
    "id": "3c323c15"
   },
   "source": [
    "### 5.2. Train the CNN to learn from our sequences"
   ]
  },
  {
   "cell_type": "code",
   "execution_count": 13,
   "id": "d539bd5d",
   "metadata": {
    "id": "d539bd5d"
   },
   "outputs": [
    {
     "name": "stdout",
     "output_type": "stream",
     "text": [
      "Epoch 1/10\n",
      "36/36 [==============================] - 1s 7ms/step - loss: 0.6627 - accuracy: 0.6107 - val_loss: 0.6147 - val_accuracy: 0.7627\n",
      "Epoch 2/10\n",
      "36/36 [==============================] - 0s 4ms/step - loss: 0.5193 - accuracy: 0.8258 - val_loss: 0.4702 - val_accuracy: 0.8613\n",
      "Epoch 3/10\n",
      "36/36 [==============================] - 0s 4ms/step - loss: 0.3607 - accuracy: 0.8853 - val_loss: 0.3303 - val_accuracy: 0.8987\n",
      "Epoch 4/10\n",
      "36/36 [==============================] - 0s 4ms/step - loss: 0.2526 - accuracy: 0.9307 - val_loss: 0.2502 - val_accuracy: 0.9173\n",
      "Epoch 5/10\n",
      "36/36 [==============================] - 0s 4ms/step - loss: 0.1795 - accuracy: 0.9609 - val_loss: 0.1838 - val_accuracy: 0.9440\n",
      "Epoch 6/10\n",
      "36/36 [==============================] - 0s 4ms/step - loss: 0.1296 - accuracy: 0.9769 - val_loss: 0.1413 - val_accuracy: 0.9547\n",
      "Epoch 7/10\n",
      "36/36 [==============================] - 0s 4ms/step - loss: 0.0951 - accuracy: 0.9849 - val_loss: 0.1157 - val_accuracy: 0.9653\n",
      "Epoch 8/10\n",
      "36/36 [==============================] - 0s 4ms/step - loss: 0.0735 - accuracy: 0.9884 - val_loss: 0.0942 - val_accuracy: 0.9707\n",
      "Epoch 9/10\n",
      "36/36 [==============================] - 0s 4ms/step - loss: 0.0611 - accuracy: 0.9920 - val_loss: 0.0792 - val_accuracy: 0.9787\n",
      "Epoch 10/10\n",
      "36/36 [==============================] - 0s 4ms/step - loss: 0.0445 - accuracy: 0.9929 - val_loss: 0.0732 - val_accuracy: 0.9813\n"
     ]
    },
    {
     "data": {
      "image/png": "[encoded data removed]",
      "text/plain": [
       "<Figure size 640x480 with 1 Axes>"
      ]
     },
     "metadata": {},
     "output_type": "display_data"
    }
   ],
   "source": [
    "history = model.fit(train_features, train_labels,\n",
    "                    epochs=10, validation_split=0.25) # 25% of training set (375 sequences)\n",
    "                                                      #     is reserved as a validation set.\n",
    "# Visualize the learning curve\n",
    "plt.figure()\n",
    "plt.plot(history.history['accuracy'])\n",
    "plt.plot(history.history['val_accuracy'])\n",
    "plt.title('Learning Curve')\n",
    "plt.ylabel('accuracy')\n",
    "plt.xlabel('epoch')\n",
    "plt.legend(['train', 'validation']);"
   ]
  },
  {
   "cell_type": "markdown",
   "id": "a7c0b88d",
   "metadata": {
    "id": "a7c0b88d"
   },
   "source": [
    "### 5.3 Understand the output above"
   ]
  },
  {
   "cell_type": "markdown",
   "id": "48819d98",
   "metadata": {
    "id": "48819d98"
   },
   "source": [
    "We have set the number of epochs to 10, so the model goes through each of the sequences in the training set 10 times, learning as it goes.\n",
    "\n",
    "The visualized learning curve displays how the model's **accuracy** and **validation accuracy** improve with each epoch.\n",
    "\n",
    "The deep learning model appears to be quite effective in distinguishing sequences that bind the protein (have TFBS) from sequences that do not."
   ]
  },
  {
   "cell_type": "markdown",
   "id": "7e3b9e0c",
   "metadata": {
    "id": "7e3b9e0c"
   },
   "source": [
    "---"
   ]
  },
  {
   "cell_type": "markdown",
   "id": "f8e356d2",
   "metadata": {
    "id": "f8e356d2"
   },
   "source": [
    "### 6. Evaluate the model's performance on the test sequences\n",
    "\n",
    "The best way to evaluate the trained model's performance is to evaluate it on a test set consisting of sequences that it has not observed during training. Here, we evaluate the model on the test set."
   ]
  },
  {
   "cell_type": "code",
   "execution_count": 14,
   "id": "60e8e456",
   "metadata": {
    "id": "60e8e456"
   },
   "outputs": [
    {
     "name": "stdout",
     "output_type": "stream",
     "text": [
      "Test accuracy: 0.9860000014305115\n"
     ]
    }
   ],
   "source": [
    "results = model.evaluate(test_features, test_labels, verbose=0)\n",
    "print(\"Test accuracy:\", results[1])"
   ]
  },
  {
   "cell_type": "markdown",
   "id": "16a0df13",
   "metadata": {
    "id": "16a0df13"
   },
   "source": [
    "The trained model shows a high accuracy on the test sequences indicating that it has learned to effectively differentiate between sequences that have binding sites and those that do not."
   ]
  },
  {
   "cell_type": "markdown",
   "id": "5f4d066c",
   "metadata": {
    "id": "5f4d066c"
   },
   "source": [
    "---"
   ]
  },
  {
   "cell_type": "markdown",
   "id": "Ktz0fhLrmxAD",
   "metadata": {
    "id": "Ktz0fhLrmxAD"
   },
   "source": [
    "# 🧬 Applications with Other Data Types"
   ]
  },
  {
   "cell_type": "markdown",
   "id": "EKwHLP4AVNcm",
   "metadata": {
    "id": "EKwHLP4AVNcm"
   },
   "source": [
    "### Deep Learning for Variant Calling in Genomic Sequences\n",
    "\n",
    "**Background**:\n",
    "Variant calling is the process of identifying variants from genomic data. Variants are locations in the genome where the nucleotide has changed relative to a reference genome. They can be single nucleotide changes (called SNPs) or larger structural changes such as insertions, deletions, or rearrangements.\n",
    "\n",
    "**Problem**:\n",
    "Traditional algorithms for variant calling rely on statistical methods and heuristic rules. While they are effective, they can sometimes miss certain types of variants or misclassify them. Deep learning offers the potential to capture the complex patterns in the genomic data and make more accurate predictions.\n",
    "\n",
    "**Approach using Neural Networks**:\n",
    "\n",
    "1. **Data Representation**: Genomic sequences surrounding potential variant sites are converted into a matrix format. Each nucleotide (A, T, C, G) can be encoded as a one-hot vector (e.g., *A = [1,0,0,0]*, *T = [0,1,0,0]*, and so on). This allows the model to recognize patterns in the sequence context.\n",
    "\n",
    "2. **Model Architecture**: A convolutional neural network (CNN) can be designed to process these sequences. CNNs are particularly suited for this task because they can detect patterns in the local sequence context, which is crucial for variant calling.\n",
    "\n",
    "3. **Training**: The network is trained on a labeled dataset where the true variants are known. The network learns to differentiate between true variants and sequencing errors or other noise in the data.\n",
    "\n",
    "4. **Prediction**: Once trained, the neural network can be applied to new genomic data to predict variants. Predicted variants can then be validated using experimental methods.\n",
    "\n",
    "5. **Results**:\n",
    "Studies [1-3] have demonstrated that deep learning models can achieve higher accuracy in variant calling compared to traditional methods, especially in challenging regions of the genome.\n",
    "\n",
    "> \t\t[1] Angermueller, C., Pärnamaa, T., Parts, L., & Stegle, O. (2016). Deep learning for computational biology. Molecular Systems Biology, 12(7), 878.\n",
    "> \t\t[2] Poplin, R., Chang, P. C., Alexander, D., Schwartz, S., Colthurst, T., Ku, A., ... & DePristo, M. A. (2018). A universal SNP and small-indel variant caller using deep neural networks. Nature Biotechnology, 36(10), 983-987.\n",
    "> \t\t[3] Zou, J., Huss, M., Abid, A., Mohammadi, P., Torkamani, A., & Telenti, A. (2019). A primer on deep learning in genomics. Nature Genetics, 51(1), 12-18.\n",
    "\n",
    "\n",
    "6. **Further Applications in Genomics**:\n",
    "Beyond variant calling, neural networks have also been applied in predicting gene expression levels, recognizing functional DNA motifs, understanding 3D genome organization, and more."
   ]
  },
  {
   "cell_type": "markdown",
   "id": "xm9-VWvtVNfJ",
   "metadata": {
    "id": "xm9-VWvtVNfJ"
   },
   "source": [
    "### Deep Learning for Predicting DNA Methylation Sites\n",
    "\n",
    "**Background**:\n",
    "The state of DNA methylation at specific sites can impact gene expression, and it can vary across different tissues and developmental stages. Identifying these states can provide insights into developmental biology, disease states, and other critical biological processes.\n",
    "\n",
    "**Problem**:\n",
    "While experimental methods exist to directly measure DNA methylation, they can be costly and time-consuming. There's a need for computational methods that can predict methylation states based on other available genomic data.\n",
    "\n",
    "**Approach using Neural Networks**:\n",
    "\n",
    "1. **Data Representation**: Sequencing data surrounding potential methylation sites (e.g., CpG islands) are encoded. One common representation is the one-hot encoding, similar to what's done for variant calling.\n",
    "\n",
    "2. **Model Architecture**: A convolutional neural network (CNN) is particularly suitable because CpG methylation can be influenced by the local sequence context. The CNN can detect and learn patterns associated with methylated versus unmethylated states.\n",
    "\n",
    "3. **Training**: The model is trained on datasets where methylation status is known (from experimental measurements). The objective is to predict whether a particular CpG site is methylated or not based on the surrounding sequence and possibly other features like histone modifications.\n",
    "\n",
    "4. **Prediction**: Once trained, the neural network can predict methylation status for CpG sites in new, untested genomic data.\n",
    "\n",
    "5. **Results**:\n",
    "Several studies [1, 2] have shown that deep learning models can accurately predict methylation status across diverse genomic contexts, often outperforming traditional machine learning methods.\n",
    "\n",
    "\n",
    "> \t\t[1] Kelley, D. R., Snoek, J., & Rinn, J. L. (2016). Basset: learning the regulatory code of the accessible genome with deep convolutional neural networks. Genome Research, 26(7), 990-999.\n",
    "> \t\t[2] Angermueller, C., Pärnamaa, T., Parts, L., & Stegle, O. (2016). Deep learning for computational biology. Molecular Systems Biology, 12(7), 878.\n",
    "\n",
    "**Additional Applications in Epigenetics**:\n",
    "Beyond methylation prediction, neural networks have been applied to predict histone modifications, chromatin accessibility, and other epigenetic marks. The integration of various epigenetic marks using deep learning can also aid in the understanding of complex regulatory networks in cells."
   ]
  },
  {
   "cell_type": "markdown",
   "id": "mFDYf3JBVNhj",
   "metadata": {
    "id": "mFDYf3JBVNhj"
   },
   "source": [
    "### Predicting Protein-Protein Interactions (PPI) from Amino Acid Sequences using Convolutional Neural Networks (CNNs)\n",
    "\n",
    "**Background**:\n",
    "Understanding the complex network of protein-protein interactions is crucial for deciphering cellular processes and pathways. Experimental methods for determining PPIs can be laborious and expensive. Thus, computational prediction methods are of significant interest.\n",
    "\n",
    "**Problem**:\n",
    "Given the amino acid sequences of two proteins, can we predict whether they will interact in a cellular environment?\n",
    "\n",
    "**Approach using CNNs**:\n",
    "\n",
    "Data Representation: Protein sequences are transformed into a suitable representation for the neural network. One common approach is one-hot encoding, where each amino acid is represented as a unique binary vector.\n",
    "\n",
    "1. **Model Architecture**:\n",
    "\n",
    "- **Input layers**: Two separate input layers receive the one-hot encoded sequences of each protein.\n",
    "- **Convolutional layers**: Extract features from the input sequences. By sliding over the input data, the CNN identifies patterns (motifs) that might be indicative of interaction or non-interaction.\n",
    "- **Merged layer**: Features extracted from both proteins are combined (e.g., concatenated or merged).\n",
    "Fully connected layers: Further process the combined features.\n",
    "- **Output layer**: A single neuron provides the prediction (interaction or no interaction).\n",
    "\n",
    "\n",
    "2. **Training**:\n",
    "The model is trained on a labeled dataset where the interaction status of protein pairs is known. The CNN adjusts its weights based on the difference between its predictions and the actual labels in the training data.\n",
    "\n",
    "3. **Evaluation**:\n",
    "The trained model is then evaluated on a separate test dataset to determine its accuracy and other performance metrics in predicting PPIs.\n",
    "\n",
    "4. **Results**:\n",
    "Studies [1] have shown that CNN-based models can predict protein-protein interactions with reasonable accuracy, outperforming some traditional machine learning methods. The advantage of using CNNs is their ability to automatically and adaptively learn spatial hierarchies of features from the input sequences.\n",
    "\n",
    "> \t\t[1] Sun, T., Zhou, B., Lai, L., & Pei, J. (2017). Sequence-based prediction of protein-protein interaction using a deep-learning algorithm. BMC Bioinformatics, 18(1), 277."
   ]
  },
  {
   "cell_type": "markdown",
   "id": "7N3w8JSgnymv",
   "metadata": {
    "id": "7N3w8JSgnymv"
   },
   "source": [
    "\n",
    "\n",
    "---\n"
   ]
  },
  {
   "cell_type": "markdown",
   "id": "14b06787",
   "metadata": {
    "id": "14b06787"
   },
   "source": [
    "Copyright (c) 2023 Stanford Data Ocean (SDO)\n",
    "\n",
    "All rights reserved."
   ]
  }
 ],
 "metadata": {
  "colab": {
   "provenance": []
  },
  "kernelspec": {
   "display_name": "Python 3 (ipykernel)",
   "language": "python",
   "name": "python3"
  },
  "language_info": {
   "codemirror_mode": {
    "name": "ipython",
    "version": 3
   },
   "file_extension": ".py",
   "mimetype": "text/x-python",
   "name": "python",
   "nbconvert_exporter": "python",
   "pygments_lexer": "ipython3",
   "version": "3.10.13"
  }
 },
 "nbformat": 4,
 "nbformat_minor": 5
}
